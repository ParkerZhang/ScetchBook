{
 "cells": [
  {
   "cell_type": "code",
   "execution_count": 5,
   "id": "b2af33db-4b50-483e-8dfc-47ac55ffa62e",
   "metadata": {},
   "outputs": [
    {
     "name": "stdout",
     "output_type": "stream",
     "text": [
      "Requirement already satisfied: faiss-cpu in /home/u/RAG/lib/python3.11/site-packages (1.10.0)\n",
      "Requirement already satisfied: ollama in /home/u/RAG/lib/python3.11/site-packages (0.4.7)\n",
      "Requirement already satisfied: numpy in /home/u/RAG/lib/python3.11/site-packages (1.26.4)\n",
      "Requirement already satisfied: transformers in /home/u/RAG/lib/python3.11/site-packages (4.48.3)\n",
      "Requirement already satisfied: torch in /home/u/RAG/lib/python3.11/site-packages (2.5.1)\n",
      "Requirement already satisfied: packaging in /home/u/RAG/lib/python3.11/site-packages (from faiss-cpu) (23.2)\n",
      "Requirement already satisfied: httpx<0.29,>=0.27 in /home/u/RAG/lib/python3.11/site-packages (from ollama) (0.28.1)\n",
      "Requirement already satisfied: pydantic<3.0.0,>=2.9.0 in /home/u/RAG/lib/python3.11/site-packages (from ollama) (2.9.2)\n",
      "Requirement already satisfied: filelock in /home/u/RAG/lib/python3.11/site-packages (from transformers) (3.17.0)\n",
      "Requirement already satisfied: huggingface-hub<1.0,>=0.24.0 in /home/u/RAG/lib/python3.11/site-packages (from transformers) (0.28.1)\n",
      "Requirement already satisfied: pyyaml>=5.1 in /home/u/RAG/lib/python3.11/site-packages (from transformers) (6.0.2)\n",
      "Requirement already satisfied: regex!=2019.12.17 in /home/u/RAG/lib/python3.11/site-packages (from transformers) (2024.11.6)\n",
      "Requirement already satisfied: requests in /home/u/RAG/lib/python3.11/site-packages (from transformers) (2.32.3)\n",
      "Requirement already satisfied: tokenizers<0.22,>=0.21 in /home/u/RAG/lib/python3.11/site-packages (from transformers) (0.21.0)\n",
      "Requirement already satisfied: safetensors>=0.4.1 in /home/u/RAG/lib/python3.11/site-packages (from transformers) (0.5.2)\n",
      "Requirement already satisfied: tqdm>=4.27 in /home/u/RAG/lib/python3.11/site-packages (from transformers) (4.67.1)\n",
      "Requirement already satisfied: typing-extensions>=4.8.0 in /home/u/RAG/lib/python3.11/site-packages (from torch) (4.12.2)\n",
      "Requirement already satisfied: networkx in /home/u/RAG/lib/python3.11/site-packages (from torch) (3.4.2)\n",
      "Requirement already satisfied: jinja2 in /home/u/RAG/lib/python3.11/site-packages (from torch) (3.1.5)\n",
      "Requirement already satisfied: fsspec in /home/u/RAG/lib/python3.11/site-packages (from torch) (2024.9.0)\n",
      "Requirement already satisfied: nvidia-cuda-nvrtc-cu12==12.4.127 in /home/u/RAG/lib/python3.11/site-packages (from torch) (12.4.127)\n",
      "Requirement already satisfied: nvidia-cuda-runtime-cu12==12.4.127 in /home/u/RAG/lib/python3.11/site-packages (from torch) (12.4.127)\n",
      "Requirement already satisfied: nvidia-cuda-cupti-cu12==12.4.127 in /home/u/RAG/lib/python3.11/site-packages (from torch) (12.4.127)\n",
      "Requirement already satisfied: nvidia-cudnn-cu12==9.1.0.70 in /home/u/RAG/lib/python3.11/site-packages (from torch) (9.1.0.70)\n",
      "Requirement already satisfied: nvidia-cublas-cu12==12.4.5.8 in /home/u/RAG/lib/python3.11/site-packages (from torch) (12.4.5.8)\n",
      "Requirement already satisfied: nvidia-cufft-cu12==11.2.1.3 in /home/u/RAG/lib/python3.11/site-packages (from torch) (11.2.1.3)\n",
      "Requirement already satisfied: nvidia-curand-cu12==10.3.5.147 in /home/u/RAG/lib/python3.11/site-packages (from torch) (10.3.5.147)\n",
      "Requirement already satisfied: nvidia-cusolver-cu12==11.6.1.9 in /home/u/RAG/lib/python3.11/site-packages (from torch) (11.6.1.9)\n",
      "Requirement already satisfied: nvidia-cusparse-cu12==12.3.1.170 in /home/u/RAG/lib/python3.11/site-packages (from torch) (12.3.1.170)\n",
      "Requirement already satisfied: nvidia-nccl-cu12==2.21.5 in /home/u/RAG/lib/python3.11/site-packages (from torch) (2.21.5)\n",
      "Requirement already satisfied: nvidia-nvtx-cu12==12.4.127 in /home/u/RAG/lib/python3.11/site-packages (from torch) (12.4.127)\n",
      "Requirement already satisfied: nvidia-nvjitlink-cu12==12.4.127 in /home/u/RAG/lib/python3.11/site-packages (from torch) (12.4.127)\n",
      "Requirement already satisfied: triton==3.1.0 in /home/u/RAG/lib/python3.11/site-packages (from torch) (3.1.0)\n",
      "Requirement already satisfied: sympy==1.13.1 in /home/u/RAG/lib/python3.11/site-packages (from torch) (1.13.1)\n",
      "Requirement already satisfied: mpmath<1.4,>=1.1.0 in /home/u/RAG/lib/python3.11/site-packages (from sympy==1.13.1->torch) (1.3.0)\n",
      "Requirement already satisfied: anyio in /home/u/RAG/lib/python3.11/site-packages (from httpx<0.29,>=0.27->ollama) (4.8.0)\n",
      "Requirement already satisfied: certifi in /home/u/RAG/lib/python3.11/site-packages (from httpx<0.29,>=0.27->ollama) (2025.1.31)\n",
      "Requirement already satisfied: httpcore==1.* in /home/u/RAG/lib/python3.11/site-packages (from httpx<0.29,>=0.27->ollama) (1.0.7)\n",
      "Requirement already satisfied: idna in /home/u/RAG/lib/python3.11/site-packages (from httpx<0.29,>=0.27->ollama) (3.10)\n",
      "Requirement already satisfied: h11<0.15,>=0.13 in /home/u/RAG/lib/python3.11/site-packages (from httpcore==1.*->httpx<0.29,>=0.27->ollama) (0.14.0)\n",
      "Requirement already satisfied: annotated-types>=0.6.0 in /home/u/RAG/lib/python3.11/site-packages (from pydantic<3.0.0,>=2.9.0->ollama) (0.7.0)\n",
      "Requirement already satisfied: pydantic-core==2.23.4 in /home/u/RAG/lib/python3.11/site-packages (from pydantic<3.0.0,>=2.9.0->ollama) (2.23.4)\n",
      "Requirement already satisfied: MarkupSafe>=2.0 in /home/u/RAG/lib/python3.11/site-packages (from jinja2->torch) (3.0.2)\n",
      "Requirement already satisfied: charset-normalizer<4,>=2 in /home/u/RAG/lib/python3.11/site-packages (from requests->transformers) (3.4.1)\n",
      "Requirement already satisfied: urllib3<3,>=1.21.1 in /home/u/RAG/lib/python3.11/site-packages (from requests->transformers) (2.3.0)\n",
      "Requirement already satisfied: sniffio>=1.1 in /home/u/RAG/lib/python3.11/site-packages (from anyio->httpx<0.29,>=0.27->ollama) (1.3.1)\n"
     ]
    }
   ],
   "source": [
    "!pip install faiss-cpu ollama numpy transformers torch\n"
   ]
  },
  {
   "cell_type": "code",
   "execution_count": 1,
   "id": "9f1a4e34-e098-4532-a7c5-fe4bff1639a3",
   "metadata": {},
   "outputs": [
    {
     "name": "stderr",
     "output_type": "stream",
     "text": [
      "/home/u/RAG/lib/python3.11/site-packages/tqdm/auto.py:21: TqdmWarning: IProgress not found. Please update jupyter and ipywidgets. See https://ipywidgets.readthedocs.io/en/stable/user_install.html\n",
      "  from .autonotebook import tqdm as notebook_tqdm\n"
     ]
    }
   ],
   "source": [
    "import ollama\n",
    "import faiss\n",
    "import numpy as np\n",
    "from transformers import AutoTokenizer, AutoModel"
   ]
  },
  {
   "cell_type": "code",
   "execution_count": 2,
   "id": "eb49e5ec-65b9-4ba4-b813-48ea87545aa8",
   "metadata": {},
   "outputs": [],
   "source": [
    "tokenizer = AutoTokenizer.from_pretrained('sentence-transformers/all-MiniLM-L6-v2')\n",
    "model = AutoModel.from_pretrained('sentence-transformers/all-MiniLM-L6-v2')\n",
    "o_model = 'deepseek-r1:1.5b'"
   ]
  },
  {
   "cell_type": "code",
   "execution_count": 3,
   "id": "9f22483d-55ce-42e0-a45f-267a16e2b59d",
   "metadata": {},
   "outputs": [],
   "source": [
    "# Function to get embeddings\n",
    "def get_embedding(text):\n",
    "    inputs = tokenizer(text, return_tensors='pt', truncation=True, padding=True)\n",
    "    outputs = model(**inputs)\n",
    "    return outputs.last_hidden_state.mean(dim=1).detach().numpy()\n"
   ]
  },
  {
   "cell_type": "code",
   "execution_count": 4,
   "id": "654ec455-9ce1-4b9b-98b6-406ed9a18ec6",
   "metadata": {},
   "outputs": [],
   "source": [
    "documents = [\n",
    "    \"SJTU had 9133 class, Lao Hu is very active in the class\",\n",
    "    \"Bird Man studied in 33174 class, he is always a deep thinker when he was in SJTU or graduated from the university.\",\n",
    "    \"The cat sat on the mat.\",\n",
    "    \"Dogs are great companions.\",\n",
    "    \"The sun rises in the east.\",\n",
    "    \"Python is a popular programming language.\",\n",
    "    \"The Eiffel Tower is in Paris.\"\n",
    "]"
   ]
  },
  {
   "cell_type": "code",
   "execution_count": 5,
   "id": "0b55c524-5c77-4247-a440-c90606b378a0",
   "metadata": {},
   "outputs": [],
   "source": [
    "dimension = 384  # Dimension of the embeddings\n",
    "index = faiss.IndexFlatL2(dimension)\n"
   ]
  },
  {
   "cell_type": "code",
   "execution_count": 6,
   "id": "5a0ea715-9115-4568-951c-e00db6e99c6a",
   "metadata": {},
   "outputs": [],
   "source": [
    "document_embeddings = np.vstack([get_embedding(doc) for doc in documents])\n",
    "index.add(document_embeddings)"
   ]
  },
  {
   "cell_type": "code",
   "execution_count": 7,
   "id": "1a958ede-f280-45a0-816a-70ad66e682c4",
   "metadata": {},
   "outputs": [],
   "source": [
    "def retrieve_document(query, k=1):\n",
    "    query_embedding = get_embedding(query)\n",
    "    distances, indices = index.search(query_embedding, k)\n",
    "    return [documents[i] for i in indices[0]]\n"
   ]
  },
  {
   "cell_type": "code",
   "execution_count": 8,
   "id": "8e8e8be5-cf76-43d6-8065-65db793eb5d7",
   "metadata": {},
   "outputs": [],
   "source": [
    "def generate_response(query):\n",
    "    retrieved_docs = retrieve_document(query)\n",
    "    context = \" \".join(retrieved_docs)\n",
    "    prompt = f\"Context: {context}\\n\\nQuestion: {query}\\n\\nAnswer:\"\n",
    "    print(prompt)\n",
    "    response = ollama.generate(model=o_model,prompt=prompt)\n",
    "    return response\n"
   ]
  },
  {
   "cell_type": "code",
   "execution_count": 9,
   "id": "72ae2c4f-1c8d-4491-b011-8000bbf540c2",
   "metadata": {},
   "outputs": [],
   "source": [
    "query = \"Who is the smart guy in 33174?\""
   ]
  },
  {
   "cell_type": "code",
   "execution_count": 10,
   "id": "85c9f863-cadb-451b-8a37-41dfdbb66283",
   "metadata": {
    "scrolled": true
   },
   "outputs": [
    {
     "name": "stdout",
     "output_type": "stream",
     "text": [
      "Context: Bird Man studied in 33174 class, he is always a deep thinker when he was in SJTU or graduated from the university.\n",
      "\n",
      "Question: Who is the smart guy in 33174?\n",
      "\n",
      "Answer:\n"
     ]
    }
   ],
   "source": [
    "response = generate_response(query)"
   ]
  },
  {
   "cell_type": "code",
   "execution_count": 11,
   "id": "d69deea8-0e06-49fc-b017-0eaa83ff4f8c",
   "metadata": {},
   "outputs": [
    {
     "name": "stdout",
     "output_type": "stream",
     "text": [
      "Response: <think>\n",
      "Okay, so I'm trying to figure out who the smart guy in 33174 is based on the given context. Let me read through it again carefully. \n",
      "\n",
      "The context says that Bird Man studied at 33174 class and he's always a deep thinker when he was in SJTU or graduated from university. The question is asking who the smart guy there is, so I'm guessing it's about identifying someone else, not Bird Man.\n",
      "\n",
      "Hmm, maybe there are other students or staff members in that class or department. Since 33174 seems to be a specific code for a building or department, perhaps 33174 class refers to something like the third floor of building 3 or number 71 (since 33+17 is 50). But I'm not sure if that's relevant.\n",
      "\n",
      "The context mentions that Bird Man is deep thinking there when in SJTU or university. So maybe he's a student who's particularly sharp and insightful. On the other hand, since the question is about finding another smart guy, perhaps it's referring to a faculty member or a teaching assistant?\n",
      "\n",
      "Wait, I don't have any specific information about 33174 class here. Maybe I can infer that 33174 might be an academic building number or code. But without more context, it's hard to say who the smart guy is. Perhaps the person we're looking for isn't explicitly named in the given text.\n",
      "\n",
      "Alternatively, maybe the question is a bit confusing because it refers to Bird Man as the one studying and being deep thinkers, so perhaps the other group of people at 33174 are students or staff members, but there's no specific info given about their intelligence. \n",
      "\n",
      "Wait, another angle: maybe 33174 class refers to a specific department or school. If it's a university, perhaps the smart guy is within that academic community. But without knowing more, I can't specify who he is.\n",
      "\n",
      "I think the best approach here is to note that based on the provided information, we don't have enough details about 33174 class to identify the \"smart guy.\" However, if there's a person named Bird Man, perhaps someone else is being referred to by that name. But without additional context or information, it's hard to pinpoint.\n",
      "\n",
      "So, my conclusion is that based on the given text, we don't have enough data to determine who the smart guy in 33174 is because there's no specific information provided about individuals within that class or department.\n",
      "</think>\n",
      "\n",
      "Based on the provided context, the information does not include any details about the \"smart guy\" within 33174 class. While Bird Man is mentioned as a deep thinker at SJTU or university, there are no specific mentions of individuals named or referred to by that name in 33174 class. Therefore, we cannot identify the smart guy from the given information.\n",
      "\n",
      "Answer: Based on the provided context, we do not have enough information to determine who the smart guy in 33174 is.\n"
     ]
    }
   ],
   "source": [
    "print(\"Response:\", response['response'])"
   ]
  },
  {
   "cell_type": "code",
   "execution_count": 12,
   "id": "bf7ef852-50a1-42fa-aa2d-67b0baaa903d",
   "metadata": {},
   "outputs": [
    {
     "data": {
      "text/plain": [
       "array([[-0.31338495,  0.04425209, -0.3133549 , ..., -0.14250495,\n",
       "        -0.665298  ,  0.43502602],\n",
       "       [ 0.13533844, -0.08379436, -0.13755773, ..., -0.00178358,\n",
       "        -0.44546187,  0.11593696],\n",
       "       [ 0.78422046, -0.09497552, -0.22108857, ...,  0.30985013,\n",
       "         0.01786342,  0.31611723],\n",
       "       ...,\n",
       "       [ 0.00909124,  0.4990011 ,  0.48946318, ..., -0.02088955,\n",
       "        -0.3211978 ,  0.20304598],\n",
       "       [-0.19325323, -0.08373971, -0.05751083, ...,  0.75563073,\n",
       "         1.0413365 ,  0.16750695],\n",
       "       [ 0.40764534,  0.21286911,  0.18326026, ...,  0.11061604,\n",
       "         0.37101394,  0.3125213 ]], dtype=float32)"
      ]
     },
     "execution_count": 12,
     "metadata": {},
     "output_type": "execute_result"
    }
   ],
   "source": [
    "document_embeddings\n"
   ]
  },
  {
   "cell_type": "code",
   "execution_count": 13,
   "id": "81acbb4f-4884-4a27-b00b-b462bfa97434",
   "metadata": {},
   "outputs": [
    {
     "data": {
      "text/plain": [
       "7"
      ]
     },
     "execution_count": 13,
     "metadata": {},
     "output_type": "execute_result"
    }
   ],
   "source": [
    "len(document_embeddings)"
   ]
  },
  {
   "cell_type": "code",
   "execution_count": 15,
   "id": "877bcd89-50d6-4a2d-8147-aaddcc26eec4",
   "metadata": {},
   "outputs": [
    {
     "data": {
      "text/plain": [
       "384"
      ]
     },
     "execution_count": 15,
     "metadata": {},
     "output_type": "execute_result"
    }
   ],
   "source": [
    "len(document_embeddings[0])\n"
   ]
  },
  {
   "cell_type": "code",
   "execution_count": 17,
   "id": "670f0a70-da19-4294-a283-c7f1bfc45c02",
   "metadata": {},
   "outputs": [
    {
     "data": {
      "text/plain": [
       "array([-3.13384950e-01,  4.42520902e-02, -3.13354909e-01, -3.35043706e-02,\n",
       "        2.88317859e-01,  3.01725835e-01, -2.28521660e-01,  9.12582129e-02,\n",
       "       -5.23138881e-01, -1.92603737e-01,  4.27228540e-01,  3.73506546e-02,\n",
       "       -1.56339005e-01, -3.72278720e-01,  1.12856187e-01, -1.34598151e-01,\n",
       "        1.29387677e-01,  7.89749324e-02, -4.90241311e-02, -6.71905577e-01,\n",
       "        9.52798799e-02, -8.42582807e-02,  2.67494380e-01, -1.78499185e-02,\n",
       "        1.56675637e-01, -6.94557801e-02,  8.40093195e-02, -1.56203061e-01,\n",
       "        9.57569927e-02, -4.31807399e-01, -5.61613441e-02,  3.73505473e-01,\n",
       "        1.55442640e-01,  2.01965153e-01, -2.26853266e-01,  3.34672660e-01,\n",
       "       -5.81312515e-02,  6.08717054e-02,  1.60044268e-01,  2.14835778e-01,\n",
       "       -4.89433073e-02, -2.04534084e-01,  5.34454107e-01, -4.20967847e-01,\n",
       "        2.58447915e-01, -4.38286811e-01, -3.72478604e-01, -5.79464555e-01,\n",
       "       -3.76888774e-02, -3.56309950e-01,  1.98429660e-03, -3.78072634e-02,\n",
       "        2.49954732e-03, -2.38929644e-01, -2.83068001e-01, -3.92110273e-02,\n",
       "       -4.12687100e-02,  9.55683216e-02, -2.41847828e-01, -1.00664563e-01,\n",
       "       -2.47912511e-01,  3.63517463e-01, -1.90544680e-01,  9.51658115e-02,\n",
       "        4.82380390e-03, -1.82403862e-01, -3.61076184e-02, -2.82502711e-01,\n",
       "        2.86769748e-01,  1.37423411e-01,  1.91353694e-01,  1.16267852e-01,\n",
       "        9.71302167e-02,  2.17629239e-01,  1.34954229e-01,  5.18033393e-02,\n",
       "        1.07018597e-01,  2.50509858e-01,  1.71327904e-01, -2.31270716e-01,\n",
       "        6.62715137e-02,  3.88069376e-02, -5.95065355e-02,  1.59239128e-01,\n",
       "        2.74004817e-01,  9.67037529e-02, -3.22270989e-01, -6.07229806e-02,\n",
       "       -6.33325242e-03, -8.82830545e-02,  1.87175214e-01,  5.89549877e-02,\n",
       "       -1.02190040e-02,  2.78824091e-01, -1.18228063e-01,  5.68930432e-02,\n",
       "       -1.00449182e-01,  1.82723761e-01, -4.07801837e-01,  2.56030887e-01,\n",
       "       -1.38906896e-01,  4.90540653e-01,  1.55986119e-02, -1.12221666e-01,\n",
       "       -3.03771377e-01,  2.49653775e-02,  1.86319992e-01,  3.63431051e-02,\n",
       "       -1.11146467e-02, -7.01170713e-02, -3.15960497e-01, -1.42974690e-01,\n",
       "       -1.58910528e-01, -3.42916548e-01,  1.31950170e-01, -8.08639228e-02,\n",
       "        5.82395382e-02,  5.15096337e-02, -3.47202748e-01,  5.39593585e-02,\n",
       "        5.33683300e-02, -1.81409180e-01, -2.16944218e-01, -4.59171832e-01,\n",
       "       -1.22797698e-01, -3.08435440e-01, -1.98202148e-01,  3.12157741e-33,\n",
       "        6.19384527e-01,  8.01981762e-02,  1.60148263e-01,  1.93272367e-01,\n",
       "       -4.01773900e-01, -9.90506783e-02, -1.06328003e-01, -2.48856507e-02,\n",
       "        4.59711887e-02,  6.61711022e-02, -5.15561044e-01,  2.99822092e-02,\n",
       "        2.78421380e-02, -2.22225636e-01,  2.58977056e-01,  1.37134522e-01,\n",
       "       -1.38474718e-01,  1.57551661e-01, -1.56574771e-01,  3.08991969e-02,\n",
       "        8.44919756e-02, -4.91803885e-02,  4.74148467e-02, -4.91011351e-01,\n",
       "        2.93349385e-01,  5.27478814e-01,  2.03022733e-01, -3.27409387e-01,\n",
       "        4.52640392e-02,  5.12462318e-01,  1.14200776e-02, -1.81178808e-01,\n",
       "       -4.12242413e-01,  7.12450221e-02, -1.48258299e-01,  1.48877740e-01,\n",
       "       -6.94401339e-02, -1.10810615e-01,  2.75017321e-01, -2.32233346e-01,\n",
       "        3.48087311e-01,  3.50781649e-01,  3.05450201e-01,  1.55146196e-01,\n",
       "        1.78584278e-01,  5.77546835e-01,  1.61374092e-01,  3.37481022e-01,\n",
       "        3.04868996e-01,  3.88393372e-01, -6.28684640e-01, -3.31502914e-01,\n",
       "       -1.72909513e-01, -2.68950343e-01,  9.40413550e-02, -4.08592284e-01,\n",
       "        5.53837299e-01,  4.94522899e-01, -1.95181012e-01,  2.49568120e-01,\n",
       "        5.79105504e-03,  1.19486913e-01, -3.95803034e-01,  4.20595258e-02,\n",
       "       -8.30540285e-02, -1.99143142e-01, -5.30174017e-01, -5.46548128e-01,\n",
       "        7.25299269e-02, -7.10598946e-01,  1.83803871e-01, -6.87531754e-02,\n",
       "       -2.57482052e-01,  7.97681957e-02,  1.49789855e-01, -1.54334947e-01,\n",
       "       -6.28449619e-02, -5.67347407e-02,  2.93821305e-01,  3.67826432e-01,\n",
       "       -2.47250628e-02, -2.78075337e-01, -2.69334733e-01, -9.83683169e-02,\n",
       "        9.48717073e-03,  4.79953401e-02,  2.76590466e-01, -2.99351215e-02,\n",
       "        1.34774312e-01,  3.97093743e-01,  1.97822258e-01, -3.67724746e-01,\n",
       "        2.23534688e-01,  1.59077436e-01,  2.01455399e-01, -6.60011058e-33,\n",
       "       -3.35540503e-01,  4.82803702e-01, -3.86491090e-01,  1.79570645e-01,\n",
       "        1.52838171e-01,  2.25809775e-02,  7.68058077e-02,  4.34513509e-01,\n",
       "       -2.64856756e-01,  1.04015395e-01,  4.39058661e-01, -4.64547962e-01,\n",
       "        5.51807210e-02, -4.69629467e-02,  7.56283328e-02, -1.08877897e-01,\n",
       "       -3.80454361e-02,  2.52723902e-01, -1.01189464e-01,  3.89718890e-01,\n",
       "        1.07963659e-01,  3.70032012e-01,  8.89464095e-03,  8.96608308e-02,\n",
       "       -1.99483335e-02,  2.40404129e-01, -2.51786441e-01,  2.96628866e-02,\n",
       "       -3.80952537e-01,  1.84191287e-01, -7.18949661e-02, -3.19764882e-01,\n",
       "       -6.12584233e-01,  5.72472811e-01, -5.83841681e-01, -3.16498846e-01,\n",
       "        2.91789412e-01,  2.53629535e-01, -2.17117146e-01,  2.56143380e-02,\n",
       "        3.85735989e-01, -1.34642303e-01,  1.05111256e-01,  3.10060501e-01,\n",
       "        1.23044454e-01, -5.32230921e-02,  2.16440991e-01, -2.68061589e-02,\n",
       "        1.05462328e-01, -3.11575085e-01, -5.92393354e-02,  2.92328764e-02,\n",
       "        2.67898232e-01,  1.49124473e-01,  3.88926625e-01,  1.78683266e-01,\n",
       "        1.54765204e-01, -1.35035381e-01, -5.01919866e-01, -6.26770630e-02,\n",
       "        2.19195709e-02,  2.69325614e-01, -2.69836873e-01,  6.54693842e-01,\n",
       "        5.61637692e-02,  7.79728517e-02,  2.24720657e-01,  2.96209931e-01,\n",
       "        1.15236521e-01, -5.85619450e-01, -1.17323399e-01, -2.83250779e-01,\n",
       "        1.42854795e-01,  5.09604625e-02, -2.13474795e-01, -6.29638210e-02,\n",
       "       -3.92264932e-01,  3.80835861e-01,  2.74752259e-01, -2.04440340e-01,\n",
       "       -2.45261163e-01, -3.75777364e-01, -3.57333809e-01, -2.64346719e-01,\n",
       "       -6.48388416e-02,  2.92209148e-01,  4.58987355e-01, -3.32484186e-01,\n",
       "        6.23167276e-01, -1.95901021e-01, -1.61713199e-03,  5.59628248e-01,\n",
       "       -1.60346311e-02,  6.98812902e-02,  6.99475333e-02, -9.64834683e-08,\n",
       "       -3.60917719e-03, -1.33187264e-01,  1.34568393e-01,  1.92054465e-01,\n",
       "       -1.39489071e-02, -4.93515050e-03, -2.08656520e-01,  1.40025318e-01,\n",
       "        1.29364446e-01,  4.23657089e-01, -4.88972925e-02,  2.42986843e-01,\n",
       "        1.68275774e-01, -1.57560527e-01,  4.33876425e-01, -4.53670025e-01,\n",
       "        2.93370008e-01,  5.49474537e-01, -6.68426454e-02, -8.05409625e-02,\n",
       "        1.64789051e-01, -3.54818404e-01,  6.10532939e-01,  2.93701254e-02,\n",
       "       -1.04731590e-01,  1.64761350e-01, -9.08141285e-02,  3.56132984e-01,\n",
       "        4.31720823e-01, -3.44504579e-03, -1.61770284e-01,  2.40612239e-01,\n",
       "       -3.45130086e-01, -4.10202175e-01,  7.22713843e-02,  1.41806066e-01,\n",
       "       -8.90625045e-02, -3.03112626e-01,  2.64722168e-01,  1.45839870e-01,\n",
       "       -1.04359083e-01, -4.13239449e-01,  1.23114688e-02,  3.29869628e-01,\n",
       "        6.81621015e-01,  1.90426990e-01, -1.46757429e-02, -4.39228892e-01,\n",
       "        2.92957783e-01, -3.83247375e-01, -5.35847902e-01, -2.96248764e-01,\n",
       "       -5.62515780e-02, -4.11489010e-01, -1.37350306e-01, -9.52353776e-02,\n",
       "        8.68255794e-02, -1.98229164e-01, -3.25563818e-01, -1.83725506e-01,\n",
       "        3.68722677e-01, -1.42504945e-01, -6.65297985e-01,  4.35026020e-01],\n",
       "      dtype=float32)"
      ]
     },
     "execution_count": 17,
     "metadata": {},
     "output_type": "execute_result"
    }
   ],
   "source": [
    "document_embeddings[0]"
   ]
  },
  {
   "cell_type": "code",
   "execution_count": 18,
   "id": "cbdc7d24-790a-4ff0-8f25-4dd55056af8e",
   "metadata": {},
   "outputs": [
    {
     "data": {
      "text/plain": [
       "array([ 1.35338441e-01, -8.37943554e-02, -1.37557730e-01,  3.67650948e-02,\n",
       "       -2.68033415e-01, -6.65589198e-02, -7.36890687e-03, -1.11448318e-01,\n",
       "       -7.12174922e-02,  6.73540458e-02, -2.48500258e-01, -3.55330203e-03,\n",
       "       -2.65568614e-01,  5.72488271e-03, -7.76972622e-02, -6.31485805e-02,\n",
       "       -4.15043607e-02,  1.31824904e-03,  8.52839276e-02, -2.81401724e-01,\n",
       "       -2.69379765e-01,  2.29214638e-01,  2.13231713e-01, -6.32483810e-02,\n",
       "        1.39867291e-01, -9.47968476e-03,  4.28013504e-02,  1.40822225e-03,\n",
       "        6.06070459e-02,  7.72481263e-02,  1.40402541e-01,  3.63425434e-01,\n",
       "       -7.44939223e-03,  1.75124168e-01, -9.08588618e-02,  9.40840468e-02,\n",
       "        3.80521901e-02,  3.33124906e-01,  1.26568064e-01, -1.31464496e-01,\n",
       "       -7.90566504e-02,  6.02593347e-02,  2.39496157e-01,  2.20698640e-01,\n",
       "       -7.65588600e-03, -1.50140479e-01, -2.70879507e-01, -1.40907586e-01,\n",
       "        1.93624362e-01, -5.83928078e-02, -4.47703153e-01, -1.47962704e-01,\n",
       "       -7.30731785e-02, -1.65572718e-01,  1.97744340e-01,  3.67270321e-01,\n",
       "        1.54267728e-01,  2.44574949e-01, -3.06266546e-01, -2.92961061e-01,\n",
       "       -2.63208188e-02, -7.48231485e-02, -1.38407037e-01, -9.57242912e-04,\n",
       "        1.09461434e-01, -5.94612695e-02, -1.87462047e-01,  4.80576456e-02,\n",
       "        2.11318076e-01,  9.34100449e-02,  3.83171231e-01,  3.90636772e-02,\n",
       "       -1.63322091e-01, -3.01108092e-01,  1.41316473e-01, -5.65444492e-02,\n",
       "        2.02697027e-03, -4.24989425e-02,  1.94664642e-01,  9.54026182e-04,\n",
       "        2.38335520e-01,  1.05060481e-01, -1.72362760e-01, -2.44538054e-01,\n",
       "        5.24877049e-02, -1.46087125e-01, -1.69208899e-01, -1.53827861e-01,\n",
       "       -3.07216436e-01, -2.28739977e-02,  1.57732666e-01, -4.05904770e-01,\n",
       "       -2.81488836e-01, -9.33179334e-02,  2.22139180e-01,  1.30583659e-01,\n",
       "       -2.53308892e-01,  1.41220212e-01, -9.53538157e-03,  2.24211231e-01,\n",
       "        3.34054157e-02, -6.22827820e-02,  8.10305104e-02,  6.61288574e-02,\n",
       "        6.22126758e-02,  9.36896876e-02,  2.19464809e-01,  1.35354385e-01,\n",
       "        3.90911885e-02, -4.79107797e-02, -1.48422584e-01, -8.66379216e-02,\n",
       "       -2.14603588e-01,  3.01654518e-01,  2.67703980e-01, -2.25335062e-01,\n",
       "        1.44661471e-01,  8.98972228e-02, -2.32109591e-01,  6.25505000e-02,\n",
       "       -1.44058332e-01,  1.69574618e-01, -1.35711313e-03, -6.42621815e-02,\n",
       "       -1.81418415e-02, -4.72762957e-02, -2.98255891e-01, -9.33866803e-34,\n",
       "        2.28991970e-01, -9.25411358e-02,  2.81542599e-01,  1.83206007e-01,\n",
       "        7.02330396e-02,  1.54452622e-01, -6.19171821e-02,  1.02382608e-01,\n",
       "       -9.38860252e-02,  1.79232210e-02, -9.13385674e-02,  6.39945194e-02,\n",
       "       -4.08549979e-03,  2.31493056e-01,  2.32498661e-01,  1.46092504e-01,\n",
       "       -3.06316078e-01, -4.18595411e-02, -2.97661703e-02, -1.88897535e-01,\n",
       "        1.76661555e-02,  7.10770786e-02, -5.91540076e-02, -3.41309756e-01,\n",
       "        1.85223565e-01,  1.60558000e-01,  1.58645540e-01, -3.67663294e-01,\n",
       "        1.17478058e-01,  2.11195350e-01, -7.71866143e-02,  1.20922968e-01,\n",
       "       -3.96533728e-01,  4.72878246e-03, -8.05768277e-03,  5.15817180e-02,\n",
       "        1.17580600e-01, -1.15898870e-01,  1.91192478e-01, -1.13848187e-01,\n",
       "        3.78673822e-01,  1.09650888e-01,  3.23263496e-01,  1.14515953e-01,\n",
       "       -1.00472115e-01,  6.55374452e-02,  1.28466591e-01,  1.42059043e-01,\n",
       "        2.10959643e-01,  2.45031208e-01, -8.22949111e-02, -4.67378438e-01,\n",
       "       -6.69814423e-02, -5.84632516e-01, -6.43006489e-02, -1.38931394e-01,\n",
       "        2.92842507e-01,  4.75641131e-01,  7.82367513e-02, -6.76085874e-02,\n",
       "       -2.68240333e-01,  1.69217482e-01,  1.16244011e-01, -2.18965679e-01,\n",
       "        3.89385581e-01, -1.56784698e-01, -4.15781200e-01, -1.07235119e-01,\n",
       "       -1.10091485e-01, -4.22333218e-02, -8.33556056e-02,  9.20767616e-03,\n",
       "       -1.20743752e-01, -3.50852221e-01, -2.70561993e-01,  1.56577423e-01,\n",
       "       -1.54529229e-01,  5.34115024e-02,  1.63156182e-01, -2.46147532e-02,\n",
       "        1.58420160e-01,  7.11537823e-02, -7.66180009e-02, -1.63209707e-01,\n",
       "       -2.03281432e-01,  1.27279654e-01, -9.75818187e-03, -1.26872927e-01,\n",
       "        4.50439960e-01,  2.34790504e-01,  2.77151316e-01, -6.40532151e-02,\n",
       "        2.14128926e-01, -2.11235434e-01, -2.21030980e-01, -9.11776381e-33,\n",
       "       -2.93985993e-01,  1.77252755e-01, -1.58954963e-01,  3.86101633e-01,\n",
       "        1.53760642e-01, -1.33348718e-01, -3.30825984e-01,  2.56754488e-01,\n",
       "       -1.81504264e-01, -1.28645495e-01, -8.41022469e-03,  2.22365290e-01,\n",
       "        4.89933521e-01,  7.59252682e-02, -1.21595949e-01, -2.36744076e-01,\n",
       "       -2.49842092e-01, -7.87365362e-02, -6.84594288e-02, -3.68100144e-02,\n",
       "        2.16514364e-01,  7.49135539e-02, -5.14566191e-02, -1.65088475e-01,\n",
       "       -1.62923768e-01, -9.97401178e-02,  5.32532670e-02, -1.33181542e-01,\n",
       "       -1.31763831e-01,  1.05736099e-01, -2.78963130e-02, -5.22834249e-02,\n",
       "       -3.59157294e-01, -9.80867743e-02, -2.04498351e-01,  2.58839875e-02,\n",
       "        1.09200537e-01,  2.13325649e-01, -1.02306835e-01,  2.07243398e-01,\n",
       "       -9.33290347e-02,  2.11542636e-01, -1.57975942e-01, -1.98154137e-01,\n",
       "        2.59652674e-01, -1.71181574e-01,  7.32282475e-02,  9.89473388e-02,\n",
       "       -2.15962399e-02, -4.72603962e-02, -1.02108948e-01, -7.23275319e-02,\n",
       "        1.72290429e-01,  4.87969182e-02,  3.60449523e-01,  4.13199924e-02,\n",
       "        9.00254846e-02, -4.83481698e-02, -1.63669646e-01,  7.31141791e-02,\n",
       "       -1.52880535e-01, -1.06148101e-01,  8.57239887e-02,  1.26530230e-01,\n",
       "       -2.05729362e-02,  1.00770056e-01, -3.62531155e-01,  1.76606059e-01,\n",
       "       -2.92400494e-02, -3.96736860e-01,  1.90342009e-01, -1.16259083e-01,\n",
       "       -1.25015369e-02,  2.55382992e-02, -3.39087583e-02,  2.68030852e-01,\n",
       "        3.96071635e-02, -6.61077648e-02,  1.55561417e-01, -2.24503919e-01,\n",
       "       -4.31921408e-02, -2.07523629e-01, -1.66538820e-01,  7.53211379e-02,\n",
       "        2.27928553e-02, -2.07235217e-02,  9.56111103e-02,  4.93518002e-02,\n",
       "        1.99432120e-01, -1.32298410e-01, -1.17716588e-01,  1.94906354e-01,\n",
       "        5.58243273e-03, -1.92438498e-01, -3.39951031e-02, -9.86534801e-08,\n",
       "       -3.83719027e-01,  7.94891715e-02,  1.35513768e-01,  1.54196471e-01,\n",
       "        3.12996835e-01,  7.08731040e-02, -9.53093097e-02, -8.39635208e-02,\n",
       "        6.69215545e-02,  3.89870375e-01, -2.59864300e-01, -2.00990304e-01,\n",
       "        4.58423346e-02, -2.08118379e-01,  3.79404157e-01,  1.59924850e-02,\n",
       "        4.08348680e-01, -2.79424727e-01, -1.08005032e-01,  1.51616722e-01,\n",
       "        1.97062105e-01,  1.04291469e-01,  2.05986321e-01,  6.75194636e-02,\n",
       "       -1.88300595e-01, -1.09256608e-02,  3.30653079e-02,  4.96380366e-02,\n",
       "        2.27336120e-02,  8.91093761e-02, -3.05956155e-01,  5.18643141e-01,\n",
       "       -4.04197931e-01, -3.56932431e-01,  1.02715306e-01, -1.68787643e-01,\n",
       "        1.85956378e-02,  1.53720945e-01,  2.93595046e-01, -2.42520459e-02,\n",
       "       -2.87800074e-01, -3.69406193e-01, -2.52952259e-02,  2.21178025e-01,\n",
       "        1.42513633e-01, -8.62658769e-02,  1.45580083e-01, -2.93420404e-02,\n",
       "       -6.21378198e-02,  1.21805213e-01, -7.40882233e-02,  4.10250872e-01,\n",
       "        8.48023146e-02, -2.17809245e-01,  9.14664641e-02,  2.92446581e-03,\n",
       "       -6.73822686e-02, -2.41841599e-02, -2.70851552e-01, -2.55908847e-01,\n",
       "        3.05615008e-01, -1.78357866e-03, -4.45461869e-01,  1.15936957e-01],\n",
       "      dtype=float32)"
      ]
     },
     "execution_count": 18,
     "metadata": {},
     "output_type": "execute_result"
    }
   ],
   "source": [
    "document_embeddings[1]"
   ]
  },
  {
   "cell_type": "code",
   "execution_count": 19,
   "id": "dbef4eb5-b117-4b8f-8ee9-1f235dac0e53",
   "metadata": {},
   "outputs": [
    {
     "data": {
      "text/plain": [
       "array([[-2.27441296e-01,  3.33631128e-01, -4.53439802e-01,\n",
       "         1.83711514e-01, -6.56847715e-01, -3.72543067e-01,\n",
       "         4.27268058e-01,  1.84258059e-01, -5.27532578e-01,\n",
       "         2.10130945e-01,  8.76623467e-02, -2.79604048e-01,\n",
       "         2.44342849e-01,  5.39644510e-02, -5.42566359e-01,\n",
       "         1.85140565e-01,  8.74144509e-02, -3.93703789e-01,\n",
       "         1.41154483e-01, -3.38641644e-01, -9.80650559e-02,\n",
       "        -2.06188094e-02,  1.52575880e-01, -6.18588924e-02,\n",
       "         3.01663727e-01,  3.73396516e-01,  3.99404280e-02,\n",
       "        -2.20732555e-01, -9.26253796e-02, -2.04763412e-01,\n",
       "         2.91062623e-01,  1.23271644e-01,  4.62712973e-01,\n",
       "         1.44287497e-02, -4.65575844e-01, -1.33453265e-01,\n",
       "         4.63331550e-01,  4.68827516e-01,  4.47146624e-01,\n",
       "        -3.83123875e-01, -3.40430230e-01, -4.12777305e-01,\n",
       "         1.27799556e-01,  4.62433964e-01, -2.42699444e-01,\n",
       "        -2.28748694e-01, -6.63773492e-02, -5.69859594e-02,\n",
       "         6.26965910e-02,  7.74808004e-02, -5.02596557e-01,\n",
       "         7.96737000e-02,  9.11714062e-02,  3.05456128e-02,\n",
       "         4.75457817e-01, -2.87089378e-01,  1.52295157e-01,\n",
       "        -7.40812793e-02,  3.49196583e-01,  3.88706356e-01,\n",
       "         1.49160638e-01,  2.61955317e-02, -5.39695621e-02,\n",
       "         3.51172835e-01,  1.71823964e-01,  4.68906052e-02,\n",
       "        -2.54037678e-01, -7.57771254e-01, -2.37440884e-01,\n",
       "        -5.01999080e-01,  2.88187891e-01, -8.77417102e-02,\n",
       "         2.64676481e-01, -4.94643599e-01,  3.66637081e-01,\n",
       "        -5.64273000e-02,  2.31273770e-01, -4.36464138e-02,\n",
       "        -1.17692985e-01, -8.61161947e-02, -1.03631116e-01,\n",
       "        -3.35701227e-01, -5.52374184e-01,  4.03147340e-01,\n",
       "         2.79963136e-01,  2.12961569e-01,  5.29704653e-02,\n",
       "        -5.57907335e-02, -6.79080784e-02, -1.70200482e-01,\n",
       "         3.00110161e-01, -2.71700472e-01,  1.07926965e-01,\n",
       "         4.20619687e-03, -1.08893156e-01,  2.75163770e-01,\n",
       "         4.41694766e-01,  1.11517094e-01, -4.20016795e-01,\n",
       "         5.59984922e-01,  3.31263274e-01, -5.12531027e-03,\n",
       "         1.58398271e-01,  2.12819222e-02,  2.76341885e-01,\n",
       "         1.73899129e-01,  1.25678733e-01,  3.48131269e-01,\n",
       "         9.44210589e-02, -4.69528675e-01,  8.83961692e-02,\n",
       "        -3.89763921e-01,  3.20966542e-02,  3.83572467e-03,\n",
       "         3.88398506e-02, -2.83542663e-01, -1.89054593e-01,\n",
       "         5.88741958e-01, -5.56662269e-02, -1.59555748e-01,\n",
       "         2.09928557e-01,  2.71503359e-01, -1.78241909e-01,\n",
       "         2.94083804e-01,  7.38641918e-02,  1.47237495e-01,\n",
       "        -5.43973148e-02, -2.43526533e-32, -1.11767195e-01,\n",
       "         2.53457457e-01, -3.45785134e-02,  2.69022197e-01,\n",
       "        -1.29916640e-02,  7.66011700e-02, -2.79198796e-01,\n",
       "         5.26862741e-01,  4.28615622e-02, -5.13723008e-02,\n",
       "         2.45880589e-01, -3.67420167e-01,  1.16485327e-01,\n",
       "         1.39213338e-01, -9.05318558e-02,  2.04533577e-01,\n",
       "        -9.37607661e-02, -2.82234728e-01, -3.09458107e-01,\n",
       "        -3.55853468e-01, -3.54635753e-02,  1.29142469e-02,\n",
       "        -1.72915280e-01,  5.72718971e-04,  3.29753131e-01,\n",
       "         1.06081331e+00,  3.05036753e-01, -3.09734911e-01,\n",
       "         4.55201149e-01,  3.91150743e-01, -3.16773772e-01,\n",
       "         5.99820733e-01, -3.24248731e-01,  1.80042207e-01,\n",
       "         3.01384866e-01, -4.49967347e-02,  1.29336283e-01,\n",
       "        -7.22834826e-01, -1.01653963e-01,  3.24167818e-01,\n",
       "        -1.38646439e-01,  4.86586094e-01,  1.39878586e-01,\n",
       "        -1.42017320e-01, -6.76890239e-02, -2.18105894e-02,\n",
       "        -2.93163806e-02,  4.80189174e-01,  4.16583985e-01,\n",
       "         5.17499149e-01, -3.70331049e-01, -7.78030828e-02,\n",
       "        -6.45922422e-02, -1.99724063e-01,  2.36416291e-02,\n",
       "        -2.24370405e-01, -1.45461634e-01,  4.64311987e-01,\n",
       "         4.44795728e-01,  2.26298049e-01,  9.91870090e-02,\n",
       "         4.85177040e-01, -1.54412076e-01,  2.25613073e-01,\n",
       "        -1.19028367e-01, -2.90415436e-01, -1.21680699e-01,\n",
       "         4.10650522e-02, -2.29462251e-01,  2.46523991e-01,\n",
       "        -1.44362569e-01,  4.65199165e-02,  4.62850966e-02,\n",
       "         4.86557186e-02, -4.33056146e-01,  6.41175359e-02,\n",
       "         1.28427893e-02,  2.66260028e-01, -2.68765479e-01,\n",
       "        -2.87109882e-01, -2.98255712e-01,  3.68230253e-01,\n",
       "        -6.35541901e-02, -3.72818977e-01,  6.66626021e-02,\n",
       "         1.30806133e-01, -3.21719199e-01, -1.46156996e-01,\n",
       "         3.48173268e-02, -2.36756265e-01, -2.09937230e-01,\n",
       "        -3.00478667e-01, -1.59519315e-02, -7.05849528e-02,\n",
       "        -6.25645638e-01,  1.13402328e-32, -3.47927839e-01,\n",
       "        -3.57821956e-02, -1.63267646e-03,  1.34850398e-01,\n",
       "         4.36955988e-02, -1.67774379e-01, -3.81376266e-01,\n",
       "         1.90199628e-01, -1.37864158e-01, -9.16724131e-02,\n",
       "         3.22208613e-01,  1.36408374e-01,  4.14767593e-01,\n",
       "        -2.11811721e-01,  4.97031480e-01, -3.46417911e-02,\n",
       "        -1.21394098e-01, -5.05077481e-01, -5.06458342e-01,\n",
       "         1.41587421e-01,  2.04064086e-01, -2.17741624e-01,\n",
       "        -4.63290542e-01, -5.64588793e-02, -6.98950067e-02,\n",
       "         3.44003439e-01, -4.48987931e-02, -1.33301064e-01,\n",
       "        -2.24937722e-01,  4.27366465e-01, -5.79813063e-01,\n",
       "        -1.09509118e-01, -3.94253403e-01,  6.62835911e-02,\n",
       "        -6.77511394e-01,  1.72874406e-01,  1.29730195e-01,\n",
       "         2.90660590e-01, -2.36125693e-01,  2.73817509e-01,\n",
       "        -8.85672346e-02,  5.63181221e-01,  2.10456014e-01,\n",
       "         4.44646090e-01,  6.58550039e-02,  1.49841905e-01,\n",
       "         7.57746026e-02,  3.60967040e-01, -1.25038192e-01,\n",
       "         1.59235690e-02, -3.31807919e-02,  2.27515519e-01,\n",
       "        -2.16174185e-01,  3.08884848e-02,  4.38467646e-03,\n",
       "         1.62794217e-01,  1.83216527e-01,  1.39416367e-01,\n",
       "         3.00902784e-01, -9.85718295e-02, -9.54245329e-02,\n",
       "         2.54431397e-01,  6.96309507e-01,  4.13138837e-01,\n",
       "        -2.92814225e-01,  1.78928554e-01, -9.12662029e-01,\n",
       "         6.06233478e-01, -4.24423486e-01, -2.80921966e-01,\n",
       "         8.17553520e-01, -3.64893764e-01, -3.48308235e-01,\n",
       "        -4.39526826e-01, -3.75802398e-01,  6.31531239e-01,\n",
       "        -3.68308336e-01, -5.18639088e-02, -3.37461472e-01,\n",
       "        -1.78057089e-01,  3.41311574e-01, -1.11481763e-01,\n",
       "         2.39174917e-01,  9.51745883e-02, -1.18054040e-01,\n",
       "         2.32709587e-01,  3.24064046e-01, -2.13236168e-01,\n",
       "        -5.89479469e-02, -2.51626968e-01, -2.34203056e-01,\n",
       "         3.88749868e-01, -5.94041264e-03, -2.62376130e-01,\n",
       "        -2.33393312e-01, -9.56739896e-08, -3.30069602e-01,\n",
       "         4.15858060e-01, -1.82231486e-01, -3.17337573e-01,\n",
       "         3.92497897e-01, -4.50232439e-02, -2.58282870e-01,\n",
       "         7.27923140e-02, -3.30469787e-01,  2.58547038e-01,\n",
       "         2.61822611e-01, -9.19403732e-02,  1.09891511e-01,\n",
       "        -2.97856837e-04,  6.03559494e-01, -1.05055362e-01,\n",
       "         1.49239406e-01, -5.70205748e-01, -3.83235186e-01,\n",
       "         1.52437642e-01,  3.76575917e-01, -2.34605476e-01,\n",
       "         4.26875383e-01,  1.43594936e-01, -7.92526379e-02,\n",
       "         1.91638157e-01, -1.11961089e-01,  2.92641312e-01,\n",
       "        -3.04273516e-02,  1.73865080e-01, -3.93972516e-01,\n",
       "         5.00292361e-01, -3.69175881e-01, -5.65294504e-01,\n",
       "         2.05132440e-01,  9.26189795e-02, -2.70456612e-01,\n",
       "        -1.06670745e-01,  2.56860465e-01, -1.05491541e-01,\n",
       "        -2.57163435e-01, -1.85088351e-01, -1.66799739e-01,\n",
       "         2.61788428e-01,  3.05527598e-01, -6.17529936e-02,\n",
       "         9.93798394e-03, -5.64316571e-01,  1.01929344e-01,\n",
       "        -2.49945804e-01, -3.81037146e-01, -9.00971368e-02,\n",
       "         3.20902586e-01, -3.44603918e-02,  2.78330654e-01,\n",
       "        -5.42971671e-01, -4.95520271e-02,  2.26099920e-02,\n",
       "        -3.46261948e-01, -1.94939896e-01,  2.85843521e-01,\n",
       "        -1.85930237e-01,  1.04452915e-01, -4.00983453e-01]], dtype=float32)"
      ]
     },
     "execution_count": 19,
     "metadata": {},
     "output_type": "execute_result"
    }
   ],
   "source": [
    "get_embedding(query)"
   ]
  },
  {
   "cell_type": "code",
   "execution_count": null,
   "id": "b7920c86-5edb-4cb7-99d6-ef6b8cac89dd",
   "metadata": {},
   "outputs": [],
   "source": []
  }
 ],
 "metadata": {
  "kernelspec": {
   "display_name": "Python 3 (ipykernel)",
   "language": "python",
   "name": "python3"
  },
  "language_info": {
   "codemirror_mode": {
    "name": "ipython",
    "version": 3
   },
   "file_extension": ".py",
   "mimetype": "text/x-python",
   "name": "python",
   "nbconvert_exporter": "python",
   "pygments_lexer": "ipython3",
   "version": "3.11.2"
  }
 },
 "nbformat": 4,
 "nbformat_minor": 5
}
