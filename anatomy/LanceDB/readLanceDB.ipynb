{
 "cells": [
  {
   "cell_type": "code",
   "execution_count": 1,
   "id": "9d4bd376-f553-4c3a-801b-ee0f58a1f1d4",
   "metadata": {},
   "outputs": [
    {
     "name": "stderr",
     "output_type": "stream",
     "text": [
      "/home/u/RAG/lib/python3.11/site-packages/tqdm/auto.py:21: TqdmWarning: IProgress not found. Please update jupyter and ipywidgets. See https://ipywidgets.readthedocs.io/en/stable/user_install.html\n",
      "  from .autonotebook import tqdm as notebook_tqdm\n"
     ]
    }
   ],
   "source": [
    "from langchain_community.embeddings import OllamaEmbeddings\n",
    "from langchain.vectorstores import LanceDB\n",
    "from langchain.chains import RetrievalQA\n",
    "from langchain_ollama import OllamaEmbeddings\n",
    "from langchain_ollama import OllamaLLM\n",
    "import lancedb"
   ]
  },
  {
   "cell_type": "code",
   "execution_count": 2,
   "id": "39e6a032-ef31-4462-bed8-178de18596d8",
   "metadata": {},
   "outputs": [
    {
     "name": "stdout",
     "output_type": "stream",
     "text": [
      "['vectorstore']\n"
     ]
    }
   ],
   "source": [
    "db = lancedb.connect(\"./lancedb\")\n",
    "print(db.table_names())"
   ]
  },
  {
   "cell_type": "code",
   "execution_count": 3,
   "id": "996db639-93ac-410c-88e7-d6782363cb47",
   "metadata": {},
   "outputs": [],
   "source": [
    "#table_name=db.table_names()[0] \n",
    "#table=db.open_table(table_name)\n",
    "#print(table.version)\n",
    "#table.checkout(1)\n",
    "#print(table.version)"
   ]
  },
  {
   "cell_type": "code",
   "execution_count": 9,
   "id": "932043a2-3193-445b-80b3-5fc3c778a0bb",
   "metadata": {},
   "outputs": [],
   "source": [
    "embeddings = OllamaEmbeddings(model=\"deepseek-r1:14b\")"
   ]
  },
  {
   "cell_type": "code",
   "execution_count": 10,
   "id": "d28b076a-041b-4dc3-ad75-95a3fa50bef9",
   "metadata": {},
   "outputs": [],
   "source": [
    "vectorstore = LanceDB(embedding=embeddings, connection=db)\n",
    " "
   ]
  },
  {
   "cell_type": "code",
   "execution_count": 11,
   "id": "54bc3c1e-2b8b-4a26-8d6e-c3b2c5564b47",
   "metadata": {},
   "outputs": [],
   "source": [
    "llm = OllamaLLM(model=\"deepseek-r1:7b\")"
   ]
  },
  {
   "cell_type": "code",
   "execution_count": 12,
   "id": "a91a2f25-cc97-41d7-bb9d-993cd6b09980",
   "metadata": {},
   "outputs": [],
   "source": [
    "retriever = vectorstore.as_retriever(search_type=\"similarity\", search_kwargs={\"k\": 4})"
   ]
  },
  {
   "cell_type": "code",
   "execution_count": 13,
   "id": "6fcdf700-1172-4ea0-b1b0-9a35eaa886f8",
   "metadata": {},
   "outputs": [
    {
     "name": "stdout",
     "output_type": "stream",
     "text": [
      "{'query': 'What are the main topics discussed in the documents?', 'result': '<think>\\n嗯，我现在要回答用户的问题：“What are the main topics discussed in the documents?” 但是根据指示，我不能直接查看或使用AI模型Deepseek来获取信息。所以我要先理解这个问题，然后思考如何用给定的框架来回答。\\n\\n首先，用户提供的上下文包括了Deepseek是什么、它可以做什么以及如何使用它。接着，用户提到了TASTE和ALIGN两个框架，以及提示词框架中的逻辑锚定和思维引导。此外，还有一个关于信息传递的具体示例和结构要求。\\n\\n我需要确定用户的查询是指在他们提供的上下文中讨论的主要主题。也就是说，文档中主要谈论了什么内容？比如Deepseek的功能、使用方法、从入门到精通的过程，以及AI普及后如何更好地使用AI出彩等方面。\\n\\n根据用户给出的示例，例如“TASTE框架”中的Task、Audience等，我应该构造一个类似的结构来回答。可能的主干包括：\\n\\n1. 定义主题：介绍文档讨论的主要内容。\\n2. 详细解释每个部分的内容和要求。\\n3. 结构说明：使用清晰的段落组织信息。\\n\\n不过，由于不能直接访问Deepseek的信息，我只能基于现有的知识或者假设来推断。比如，如果用户问的是关于如何从入门到精通使用Deepseek，并且结合TASTE和ALIGN框架的应用，那么我可以构造一个结构化的回答，涵盖各个部分的要求。\\n\\n考虑到用户可能在寻找具体的指导或示例，我会模仿之前的回答结构，用清晰的段落和特定的关键词来组织信息。这将帮助用户理解如何应用这些工具，从而更好地使用Deepseek进行深入学习和应用。\\n</think>\\n\\nThe documents primarily focus on the following key areas:\\n\\n1. **Understanding Deepseek**: They provide an introduction to what Deepseek is, its capabilities, and how it can be utilized effectively.\\n\\n2. **Using Deepseek**: Detailed guidance on navigating and utilizing the tool for various tasks, ensuring users are aware of its features and functionalities.\\n\\n3. **Learning Pathway**: A structured approach from a novice to an expert user, outlining steps and resources available through Deepseek to enhance proficiency.\\n\\n4. **AI Evolution**: The impact and future implications of AI as more people become adept at using tools like Deepseek for various applications.\\n\\nEach section is designed with specific instructions and examples to facilitate comprehension and application, ensuring that users can effectively utilize Deepseek for their needs.'}\n"
     ]
    }
   ],
   "source": [
    "qa = RetrievalQA.from_chain_type(llm=llm, chain_type=\"stuff\", retriever=retriever)\n",
    "query = \"What are the main topics discussed in the documents?\"\n",
    "result = qa.invoke(query)\n",
    "print(result)"
   ]
  },
  {
   "cell_type": "code",
   "execution_count": null,
   "id": "07751752-6f92-4ef1-9928-a355f0f851b7",
   "metadata": {},
   "outputs": [],
   "source": []
  }
 ],
 "metadata": {
  "kernelspec": {
   "display_name": "Python 3 (ipykernel)",
   "language": "python",
   "name": "python3"
  },
  "language_info": {
   "codemirror_mode": {
    "name": "ipython",
    "version": 3
   },
   "file_extension": ".py",
   "mimetype": "text/x-python",
   "name": "python",
   "nbconvert_exporter": "python",
   "pygments_lexer": "ipython3",
   "version": "3.11.2"
  }
 },
 "nbformat": 4,
 "nbformat_minor": 5
}
