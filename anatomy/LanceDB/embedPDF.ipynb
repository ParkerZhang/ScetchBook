{
 "cells": [
  {
   "cell_type": "code",
   "execution_count": 1,
   "id": "4544ec1f-1057-4e84-a76b-44ccdfb662b3",
   "metadata": {},
   "outputs": [],
   "source": [
    "#!pip install pymupdf\n",
    "#!pip install langchain\n",
    "#!pip install lancedb\n",
    "#!pip install -U langchain_ollama"
   ]
  },
  {
   "cell_type": "code",
   "execution_count": 1,
   "id": "62175671-50c1-41c9-af5b-d062a6afbfed",
   "metadata": {},
   "outputs": [],
   "source": [
    "import fitz\n",
    "from langchain.text_splitter import RecursiveCharacterTextSplitter"
   ]
  },
  {
   "cell_type": "code",
   "execution_count": 2,
   "id": "9c26461a-6ff3-4e7a-915e-0e2d3be481ce",
   "metadata": {},
   "outputs": [],
   "source": [
    "from langchain_community.embeddings import OllamaEmbeddings\n",
    "from langchain.vectorstores import LanceDB\n",
    "from langchain.chains import RetrievalQA\n",
    "from langchain_ollama import OllamaEmbeddings\n",
    "from langchain_ollama import OllamaLLM"
   ]
  },
  {
   "cell_type": "code",
   "execution_count": 3,
   "id": "953a1201-2517-44e4-b117-b653de97ab92",
   "metadata": {},
   "outputs": [
    {
     "name": "stderr",
     "output_type": "stream",
     "text": [
      "/home/u/RAG/lib/python3.11/site-packages/tqdm/auto.py:21: TqdmWarning: IProgress not found. Please update jupyter and ipywidgets. See https://ipywidgets.readthedocs.io/en/stable/user_install.html\n",
      "  from .autonotebook import tqdm as notebook_tqdm\n"
     ]
    }
   ],
   "source": [
    "import lancedb"
   ]
  },
  {
   "cell_type": "code",
   "execution_count": 4,
   "id": "73bcb8d7-6962-41dc-9dba-9b60fa310721",
   "metadata": {},
   "outputs": [],
   "source": [
    "doc = fitz.open(\"DeepSeek.pdf\")"
   ]
  },
  {
   "cell_type": "code",
   "execution_count": 5,
   "id": "8feb6e09-f705-4424-ab9b-560ab46618ac",
   "metadata": {},
   "outputs": [],
   "source": [
    "texts, metadatas = [], []\n",
    "db = lancedb.connect(\"./lancedb\")\n",
    "embeddings = OllamaEmbeddings(model=\"deepseek-r1:14b\")"
   ]
  },
  {
   "cell_type": "code",
   "execution_count": 6,
   "id": "cac6bd1f-b9d5-4ac1-b7f9-fc77fbd0046d",
   "metadata": {},
   "outputs": [],
   "source": [
    "llm = OllamaLLM(model=\"deepseek-r1:7b\")"
   ]
  },
  {
   "cell_type": "code",
   "execution_count": null,
   "id": "c492807a-9366-4f17-a726-4caa56d8b2b7",
   "metadata": {},
   "outputs": [],
   "source": [
    "for page_num in range(len(doc)):\n",
    "    page = doc.load_page(page_num)\n",
    "    texts.append(page.get_text())\n",
    "    metadatas.append(doc.metadata)\n",
    "text_splitter = RecursiveCharacterTextSplitter(chunk_size=1000, chunk_overlap=200)\n",
    "document=text_splitter.create_documents(texts,metadatas=metadatas)\n",
    "vectorstore = LanceDB.from_documents(document, embeddings, connection=db)"
   ]
  },
  {
   "cell_type": "code",
   "execution_count": null,
   "id": "4f46f47c-c218-400e-aa6f-49bd56d2836a",
   "metadata": {},
   "outputs": [],
   "source": [
    "retriever = vectorstore.as_retriever(search_type=\"similarity\", search_kwargs={\"k\": 4})\n",
    "qa = RetrievalQA.from_chain_type(llm=llm, chain_type=\"stuff\", retriever=retriever)"
   ]
  },
  {
   "cell_type": "code",
   "execution_count": null,
   "id": "43381288-6b0b-41a0-ad3e-1b916bee7a01",
   "metadata": {},
   "outputs": [],
   "source": [
    "query = \"What are the main topics discussed in the documents?\""
   ]
  },
  {
   "cell_type": "code",
   "execution_count": null,
   "id": "3ad83fbd-2a89-4513-aab6-86f4cada7f4e",
   "metadata": {},
   "outputs": [],
   "source": [
    "result = qa.invoke(query)\n",
    "print(result)"
   ]
  },
  {
   "cell_type": "code",
   "execution_count": null,
   "id": "5a86724e-a193-4170-b0aa-77bae9160c14",
   "metadata": {},
   "outputs": [],
   "source": []
  }
 ],
 "metadata": {
  "kernelspec": {
   "display_name": "Python 3 (ipykernel)",
   "language": "python",
   "name": "python3"
  },
  "language_info": {
   "codemirror_mode": {
    "name": "ipython",
    "version": 3
   },
   "file_extension": ".py",
   "mimetype": "text/x-python",
   "name": "python",
   "nbconvert_exporter": "python",
   "pygments_lexer": "ipython3",
   "version": "3.11.2"
  }
 },
 "nbformat": 4,
 "nbformat_minor": 5
}
