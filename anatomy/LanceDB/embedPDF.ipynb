{
 "cells": [
  {
   "cell_type": "code",
   "execution_count": 1,
   "id": "4544ec1f-1057-4e84-a76b-44ccdfb662b3",
   "metadata": {},
   "outputs": [],
   "source": [
    "#!pip install pymupdf\n",
    "#!pip install langchain\n",
    "#!pip install lancedb\n",
    "#!pip install -U langchain_ollama"
   ]
  },
  {
   "cell_type": "code",
   "execution_count": 2,
   "id": "62175671-50c1-41c9-af5b-d062a6afbfed",
   "metadata": {},
   "outputs": [],
   "source": [
    "import fitz\n",
    "from langchain.text_splitter import RecursiveCharacterTextSplitter"
   ]
  },
  {
   "cell_type": "code",
   "execution_count": 3,
   "id": "9c26461a-6ff3-4e7a-915e-0e2d3be481ce",
   "metadata": {},
   "outputs": [],
   "source": [
    "from langchain_community.embeddings import OllamaEmbeddings\n",
    "from langchain.vectorstores import LanceDB\n",
    "from langchain.chains import RetrievalQA\n",
    "from langchain_ollama import OllamaEmbeddings\n",
    "from langchain_ollama import OllamaLLM"
   ]
  },
  {
   "cell_type": "code",
   "execution_count": 4,
   "id": "953a1201-2517-44e4-b117-b653de97ab92",
   "metadata": {},
   "outputs": [
    {
     "name": "stderr",
     "output_type": "stream",
     "text": [
      "/home/u/RAG/lib/python3.11/site-packages/tqdm/auto.py:21: TqdmWarning: IProgress not found. Please update jupyter and ipywidgets. See https://ipywidgets.readthedocs.io/en/stable/user_install.html\n",
      "  from .autonotebook import tqdm as notebook_tqdm\n"
     ]
    }
   ],
   "source": [
    "import lancedb"
   ]
  },
  {
   "cell_type": "code",
   "execution_count": 18,
   "id": "73bcb8d7-6962-41dc-9dba-9b60fa310721",
   "metadata": {},
   "outputs": [],
   "source": [
    "doc = fitz.open(\"DeepSeek.pdf\")"
   ]
  },
  {
   "cell_type": "code",
   "execution_count": 19,
   "id": "8feb6e09-f705-4424-ab9b-560ab46618ac",
   "metadata": {},
   "outputs": [],
   "source": [
    "texts, metadatas = [], []\n"
   ]
  },
  {
   "cell_type": "code",
   "execution_count": 20,
   "id": "c492807a-9366-4f17-a726-4caa56d8b2b7",
   "metadata": {},
   "outputs": [],
   "source": [
    "for page_num in range(len(doc)):\n",
    "    page = doc.load_page(page_num)\n",
    "    texts.append(page.get_text())\n",
    "    metadatas.append(doc.metadata)"
   ]
  },
  {
   "cell_type": "code",
   "execution_count": 21,
   "id": "ed7375cf-c179-4915-af70-e0ced964f110",
   "metadata": {},
   "outputs": [],
   "source": [
    "text_splitter = RecursiveCharacterTextSplitter(chunk_size=1000, chunk_overlap=200)\n",
    "document=text_splitter.create_documents(texts,metadatas=metadatas)"
   ]
  },
  {
   "cell_type": "code",
   "execution_count": 22,
   "id": "a8b5fd3e-b877-4381-9459-1b57eef5e6da",
   "metadata": {},
   "outputs": [],
   "source": [
    "embeddings = OllamaEmbeddings(model=\"deepseek-r1:14b\")"
   ]
  },
  {
   "cell_type": "code",
   "execution_count": 23,
   "id": "3dc04f21-3a06-42c9-86ca-83f0d1701844",
   "metadata": {},
   "outputs": [],
   "source": [
    "db = lancedb.connect(\"./lancedb\")"
   ]
  },
  {
   "cell_type": "code",
   "execution_count": 24,
   "id": "b12e0b77-bfbe-494d-a2df-ca960e036370",
   "metadata": {},
   "outputs": [],
   "source": [
    "vectorstore = LanceDB.from_documents(document, embeddings, connection=db)"
   ]
  },
  {
   "cell_type": "code",
   "execution_count": 25,
   "id": "cac6bd1f-b9d5-4ac1-b7f9-fc77fbd0046d",
   "metadata": {},
   "outputs": [],
   "source": [
    "llm = OllamaLLM(model=\"deepseek-r1:14b\")"
   ]
  },
  {
   "cell_type": "code",
   "execution_count": 26,
   "id": "4f46f47c-c218-400e-aa6f-49bd56d2836a",
   "metadata": {},
   "outputs": [],
   "source": [
    "retriever = vectorstore.as_retriever(search_type=\"similarity\", search_kwargs={\"k\": 4})"
   ]
  },
  {
   "cell_type": "code",
   "execution_count": 27,
   "id": "a7854dc9-3d6b-4bd9-92b9-493fa11eb371",
   "metadata": {},
   "outputs": [],
   "source": [
    "qa = RetrievalQA.from_chain_type(llm=llm, chain_type=\"stuff\", retriever=retriever)"
   ]
  },
  {
   "cell_type": "code",
   "execution_count": 28,
   "id": "43381288-6b0b-41a0-ad3e-1b916bee7a01",
   "metadata": {},
   "outputs": [],
   "source": [
    "query = \"What are the main topics discussed in the documents?\""
   ]
  },
  {
   "cell_type": "code",
   "execution_count": 29,
   "id": "3ad83fbd-2a89-4513-aab6-86f4cada7f4e",
   "metadata": {},
   "outputs": [],
   "source": [
    "result = qa.invoke(query)\n"
   ]
  },
  {
   "cell_type": "code",
   "execution_count": 17,
   "id": "997bbfe4-6f95-4d27-948c-6d848ebac427",
   "metadata": {},
   "outputs": [
    {
     "name": "stdout",
     "output_type": "stream",
     "text": [
      "{'query': 'What are the main topics discussed in the documents?', 'result': '<think>\\n嗯，让我仔细看看这个问题。用户问的是：“What are the main topics discussed in the documents?” 翻译过来就是“文件中讨论了哪些主要主题？”。根据提供的上下文信息，我需要找出相关的内容来回答。\\n\\n首先，看第一个部分是关于Deepseek的介绍，包括它是什么、能做什么以及如何使用。这些内容显然是在讨论Deepseek的功能和使用方法，所以这是一个主要的主题。\\n\\n接下来的部分提到了TASTE框架，里面详细列出了任务（Task）、目标受众（Audience）、结构（Structure）、语气（Tone）和示例（Example）。然后是ALIGN框架，包括目标、难度级别、输入、指导原则和新颖性。这些都是关于如何有效使用AI的策略，所以这也是一个主要的主题。\\n\\n然后有一个提示词框架，涉及逻辑锚定和思维引导，以及具体的示例。这部分可能涉及到如何设计有效的提示语来优化AI的表现，这也是讨论的内容之一。\\n\\n接下来的信息传递部分强调了清晰和精准的信息框架设计，提到了五种提示语设计技巧：信息层次、表达简洁、结构严密、受众针对性和记忆点突出。这些都是关于如何更好地传递信息的策略，所以也是一个主要主题。\\n\\n最后的应用示例部分详细说明了如何为产品创作文案，包括核心信息、功能详解、目标受众说明等。这表明讨论还包括如何在商业文案中应用这些框架和技巧，所以这也是一个主题。\\n\\n综上所述，文件讨论的主要主题围绕Deepseek的功能与使用方法，利用TASTE和ALIGN框架优化AI的使用，设计有效的提示词来提升信息传递的效果，以及在商业文案中的实际应用策略。\\n</think>\\n\\nThe main topics discussed in the documents are:\\n\\n1. **Introduction to DeepSeek**: What it is, what it can do, and how to use it.\\n\\n2. **Framework for Effective AI Usage**:\\n   - TASTE Framework: Task, Audience, Structure, Tone, Example.\\n   - ALIGN Framework: Aim, Level, Input, Guidelines, Novelty.\\n\\n3. **Prompt Design**: Tips and techniques for designing clear and precise information frameworks using logical anchoring and thinking guidance.\\n\\n4. **Information Transmission**: Principles of effective communication in copywriting, including clarity, precision, hierarchical structure, audience targeting, and memorability.\\n\\n5. **Application Examples**:\\n   - Creating product descriptions with a focus on clear information transmission.\\n   - Detailed requirements for each section of the product description, including core message, functional details, target audience, advantages, and memory points.\\n\\nThese topics collectively focus on optimizing AI usage through structured frameworks, effective prompt design, and clear communication strategies.'}\n"
     ]
    }
   ],
   "source": [
    "print(result)"
   ]
  },
  {
   "cell_type": "code",
   "execution_count": null,
   "id": "5a86724e-a193-4170-b0aa-77bae9160c14",
   "metadata": {},
   "outputs": [],
   "source": []
  }
 ],
 "metadata": {
  "kernelspec": {
   "display_name": "Python 3 (ipykernel)",
   "language": "python",
   "name": "python3"
  },
  "language_info": {
   "codemirror_mode": {
    "name": "ipython",
    "version": 3
   },
   "file_extension": ".py",
   "mimetype": "text/x-python",
   "name": "python",
   "nbconvert_exporter": "python",
   "pygments_lexer": "ipython3",
   "version": "3.11.2"
  }
 },
 "nbformat": 4,
 "nbformat_minor": 5
}
